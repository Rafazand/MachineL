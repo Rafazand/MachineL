{
  "cells": [
    {
      "cell_type": "markdown",
      "metadata": {
        "id": "view-in-github",
        "colab_type": "text"
      },
      "source": [
        "<a href=\"https://colab.research.google.com/github/Rafazand/MachineL/blob/main/MachineL_Jobsheet3.ipynb\" target=\"_parent\"><img src=\"https://colab.research.google.com/assets/colab-badge.svg\" alt=\"Open In Colab\"/></a>"
      ]
    },
    {
      "cell_type": "markdown",
      "source": [
        "# **Lab Work 1**"
      ],
      "metadata": {
        "id": "CjLB4o1bwDK4"
      }
    },
    {
      "cell_type": "markdown",
      "source": [
        "## STEP 1 - Import library"
      ],
      "metadata": {
        "id": "KfamoGWvwKbO"
      }
    },
    {
      "cell_type": "code",
      "source": [
        "import numpy as np\n",
        "import pandas as pd"
      ],
      "metadata": {
        "id": "Ujo8rBD_wVhI"
      },
      "execution_count": 1,
      "outputs": []
    },
    {
      "cell_type": "markdown",
      "source": [
        "## STEP 2 - Load Data"
      ],
      "metadata": {
        "id": "WVw0JPm2wqjy"
      }
    },
    {
      "cell_type": "code",
      "source": [
        "data = pd.read_csv('dataset.csv')"
      ],
      "metadata": {
        "id": "8pSWbSuhwt1l"
      },
      "execution_count": 2,
      "outputs": []
    },
    {
      "cell_type": "markdown",
      "source": [
        "## STEP 3 - Data Understanding"
      ],
      "metadata": {
        "id": "1uQye6kSwy4J"
      }
    },
    {
      "cell_type": "code",
      "source": [
        "# inspect first data\n",
        "data.head()\n",
        "\n",
        "# check data size\n",
        "data.shape\n",
        "\n",
        "# check general information\n",
        "data.info()\n",
        "\n",
        "# check data description\n",
        "data.describe()"
      ],
      "metadata": {
        "id": "3PvUlNqMw15F",
        "outputId": "9c48d8bf-6804-45b1-f196-a6b7fad5c032",
        "colab": {
          "base_uri": "https://localhost:8080/",
          "height": 561
        }
      },
      "execution_count": 3,
      "outputs": [
        {
          "output_type": "stream",
          "name": "stdout",
          "text": [
            "<class 'pandas.core.frame.DataFrame'>\n",
            "RangeIndex: 500 entries, 0 to 499\n",
            "Data columns (total 8 columns):\n",
            " #   Column                Non-Null Count  Dtype  \n",
            "---  ------                --------------  -----  \n",
            " 0   Email                 500 non-null    object \n",
            " 1   Address               500 non-null    object \n",
            " 2   Avatar                500 non-null    object \n",
            " 3   Avg. Session Length   500 non-null    float64\n",
            " 4   Time on App           500 non-null    float64\n",
            " 5   Time on Website       500 non-null    float64\n",
            " 6   Length of Membership  500 non-null    float64\n",
            " 7   Yearly Amount Spent   500 non-null    float64\n",
            "dtypes: float64(5), object(3)\n",
            "memory usage: 31.4+ KB\n"
          ]
        },
        {
          "output_type": "execute_result",
          "data": {
            "text/plain": [
              "       Avg. Session Length  Time on App  Time on Website  \\\n",
              "count           500.000000   500.000000       500.000000   \n",
              "mean             33.053194    12.052488        37.060445   \n",
              "std               0.992563     0.994216         1.010489   \n",
              "min              29.532429     8.508152        33.913847   \n",
              "25%              32.341822    11.388153        36.349257   \n",
              "50%              33.082008    11.983231        37.069367   \n",
              "75%              33.711985    12.753850        37.716432   \n",
              "max              36.139662    15.126994        40.005182   \n",
              "\n",
              "       Length of Membership  Yearly Amount Spent  \n",
              "count            500.000000           500.000000  \n",
              "mean               3.533462           499.314038  \n",
              "std                0.999278            79.314782  \n",
              "min                0.269901           256.670582  \n",
              "25%                2.930450           445.038277  \n",
              "50%                3.533975           498.887875  \n",
              "75%                4.126502           549.313828  \n",
              "max                6.922689           765.518462  "
            ],
            "text/html": [
              "\n",
              "  <div id=\"df-3249ab26-8cc9-442a-b9d7-908c7aaada3e\" class=\"colab-df-container\">\n",
              "    <div>\n",
              "<style scoped>\n",
              "    .dataframe tbody tr th:only-of-type {\n",
              "        vertical-align: middle;\n",
              "    }\n",
              "\n",
              "    .dataframe tbody tr th {\n",
              "        vertical-align: top;\n",
              "    }\n",
              "\n",
              "    .dataframe thead th {\n",
              "        text-align: right;\n",
              "    }\n",
              "</style>\n",
              "<table border=\"1\" class=\"dataframe\">\n",
              "  <thead>\n",
              "    <tr style=\"text-align: right;\">\n",
              "      <th></th>\n",
              "      <th>Avg. Session Length</th>\n",
              "      <th>Time on App</th>\n",
              "      <th>Time on Website</th>\n",
              "      <th>Length of Membership</th>\n",
              "      <th>Yearly Amount Spent</th>\n",
              "    </tr>\n",
              "  </thead>\n",
              "  <tbody>\n",
              "    <tr>\n",
              "      <th>count</th>\n",
              "      <td>500.000000</td>\n",
              "      <td>500.000000</td>\n",
              "      <td>500.000000</td>\n",
              "      <td>500.000000</td>\n",
              "      <td>500.000000</td>\n",
              "    </tr>\n",
              "    <tr>\n",
              "      <th>mean</th>\n",
              "      <td>33.053194</td>\n",
              "      <td>12.052488</td>\n",
              "      <td>37.060445</td>\n",
              "      <td>3.533462</td>\n",
              "      <td>499.314038</td>\n",
              "    </tr>\n",
              "    <tr>\n",
              "      <th>std</th>\n",
              "      <td>0.992563</td>\n",
              "      <td>0.994216</td>\n",
              "      <td>1.010489</td>\n",
              "      <td>0.999278</td>\n",
              "      <td>79.314782</td>\n",
              "    </tr>\n",
              "    <tr>\n",
              "      <th>min</th>\n",
              "      <td>29.532429</td>\n",
              "      <td>8.508152</td>\n",
              "      <td>33.913847</td>\n",
              "      <td>0.269901</td>\n",
              "      <td>256.670582</td>\n",
              "    </tr>\n",
              "    <tr>\n",
              "      <th>25%</th>\n",
              "      <td>32.341822</td>\n",
              "      <td>11.388153</td>\n",
              "      <td>36.349257</td>\n",
              "      <td>2.930450</td>\n",
              "      <td>445.038277</td>\n",
              "    </tr>\n",
              "    <tr>\n",
              "      <th>50%</th>\n",
              "      <td>33.082008</td>\n",
              "      <td>11.983231</td>\n",
              "      <td>37.069367</td>\n",
              "      <td>3.533975</td>\n",
              "      <td>498.887875</td>\n",
              "    </tr>\n",
              "    <tr>\n",
              "      <th>75%</th>\n",
              "      <td>33.711985</td>\n",
              "      <td>12.753850</td>\n",
              "      <td>37.716432</td>\n",
              "      <td>4.126502</td>\n",
              "      <td>549.313828</td>\n",
              "    </tr>\n",
              "    <tr>\n",
              "      <th>max</th>\n",
              "      <td>36.139662</td>\n",
              "      <td>15.126994</td>\n",
              "      <td>40.005182</td>\n",
              "      <td>6.922689</td>\n",
              "      <td>765.518462</td>\n",
              "    </tr>\n",
              "  </tbody>\n",
              "</table>\n",
              "</div>\n",
              "    <div class=\"colab-df-buttons\">\n",
              "\n",
              "  <div class=\"colab-df-container\">\n",
              "    <button class=\"colab-df-convert\" onclick=\"convertToInteractive('df-3249ab26-8cc9-442a-b9d7-908c7aaada3e')\"\n",
              "            title=\"Convert this dataframe to an interactive table.\"\n",
              "            style=\"display:none;\">\n",
              "\n",
              "  <svg xmlns=\"http://www.w3.org/2000/svg\" height=\"24px\" viewBox=\"0 -960 960 960\">\n",
              "    <path d=\"M120-120v-720h720v720H120Zm60-500h600v-160H180v160Zm220 220h160v-160H400v160Zm0 220h160v-160H400v160ZM180-400h160v-160H180v160Zm440 0h160v-160H620v160ZM180-180h160v-160H180v160Zm440 0h160v-160H620v160Z\"/>\n",
              "  </svg>\n",
              "    </button>\n",
              "\n",
              "  <style>\n",
              "    .colab-df-container {\n",
              "      display:flex;\n",
              "      gap: 12px;\n",
              "    }\n",
              "\n",
              "    .colab-df-convert {\n",
              "      background-color: #E8F0FE;\n",
              "      border: none;\n",
              "      border-radius: 50%;\n",
              "      cursor: pointer;\n",
              "      display: none;\n",
              "      fill: #1967D2;\n",
              "      height: 32px;\n",
              "      padding: 0 0 0 0;\n",
              "      width: 32px;\n",
              "    }\n",
              "\n",
              "    .colab-df-convert:hover {\n",
              "      background-color: #E2EBFA;\n",
              "      box-shadow: 0px 1px 2px rgba(60, 64, 67, 0.3), 0px 1px 3px 1px rgba(60, 64, 67, 0.15);\n",
              "      fill: #174EA6;\n",
              "    }\n",
              "\n",
              "    .colab-df-buttons div {\n",
              "      margin-bottom: 4px;\n",
              "    }\n",
              "\n",
              "    [theme=dark] .colab-df-convert {\n",
              "      background-color: #3B4455;\n",
              "      fill: #D2E3FC;\n",
              "    }\n",
              "\n",
              "    [theme=dark] .colab-df-convert:hover {\n",
              "      background-color: #434B5C;\n",
              "      box-shadow: 0px 1px 3px 1px rgba(0, 0, 0, 0.15);\n",
              "      filter: drop-shadow(0px 1px 2px rgba(0, 0, 0, 0.3));\n",
              "      fill: #FFFFFF;\n",
              "    }\n",
              "  </style>\n",
              "\n",
              "    <script>\n",
              "      const buttonEl =\n",
              "        document.querySelector('#df-3249ab26-8cc9-442a-b9d7-908c7aaada3e button.colab-df-convert');\n",
              "      buttonEl.style.display =\n",
              "        google.colab.kernel.accessAllowed ? 'block' : 'none';\n",
              "\n",
              "      async function convertToInteractive(key) {\n",
              "        const element = document.querySelector('#df-3249ab26-8cc9-442a-b9d7-908c7aaada3e');\n",
              "        const dataTable =\n",
              "          await google.colab.kernel.invokeFunction('convertToInteractive',\n",
              "                                                    [key], {});\n",
              "        if (!dataTable) return;\n",
              "\n",
              "        const docLinkHtml = 'Like what you see? Visit the ' +\n",
              "          '<a target=\"_blank\" href=https://colab.research.google.com/notebooks/data_table.ipynb>data table notebook</a>'\n",
              "          + ' to learn more about interactive tables.';\n",
              "        element.innerHTML = '';\n",
              "        dataTable['output_type'] = 'display_data';\n",
              "        await google.colab.output.renderOutput(dataTable, element);\n",
              "        const docLink = document.createElement('div');\n",
              "        docLink.innerHTML = docLinkHtml;\n",
              "        element.appendChild(docLink);\n",
              "      }\n",
              "    </script>\n",
              "  </div>\n",
              "\n",
              "\n",
              "<div id=\"df-2a918eed-8e5a-4522-9e75-1a1fefbfe2be\">\n",
              "  <button class=\"colab-df-quickchart\" onclick=\"quickchart('df-2a918eed-8e5a-4522-9e75-1a1fefbfe2be')\"\n",
              "            title=\"Suggest charts\"\n",
              "            style=\"display:none;\">\n",
              "\n",
              "<svg xmlns=\"http://www.w3.org/2000/svg\" height=\"24px\"viewBox=\"0 0 24 24\"\n",
              "     width=\"24px\">\n",
              "    <g>\n",
              "        <path d=\"M19 3H5c-1.1 0-2 .9-2 2v14c0 1.1.9 2 2 2h14c1.1 0 2-.9 2-2V5c0-1.1-.9-2-2-2zM9 17H7v-7h2v7zm4 0h-2V7h2v10zm4 0h-2v-4h2v4z\"/>\n",
              "    </g>\n",
              "</svg>\n",
              "  </button>\n",
              "\n",
              "<style>\n",
              "  .colab-df-quickchart {\n",
              "      --bg-color: #E8F0FE;\n",
              "      --fill-color: #1967D2;\n",
              "      --hover-bg-color: #E2EBFA;\n",
              "      --hover-fill-color: #174EA6;\n",
              "      --disabled-fill-color: #AAA;\n",
              "      --disabled-bg-color: #DDD;\n",
              "  }\n",
              "\n",
              "  [theme=dark] .colab-df-quickchart {\n",
              "      --bg-color: #3B4455;\n",
              "      --fill-color: #D2E3FC;\n",
              "      --hover-bg-color: #434B5C;\n",
              "      --hover-fill-color: #FFFFFF;\n",
              "      --disabled-bg-color: #3B4455;\n",
              "      --disabled-fill-color: #666;\n",
              "  }\n",
              "\n",
              "  .colab-df-quickchart {\n",
              "    background-color: var(--bg-color);\n",
              "    border: none;\n",
              "    border-radius: 50%;\n",
              "    cursor: pointer;\n",
              "    display: none;\n",
              "    fill: var(--fill-color);\n",
              "    height: 32px;\n",
              "    padding: 0;\n",
              "    width: 32px;\n",
              "  }\n",
              "\n",
              "  .colab-df-quickchart:hover {\n",
              "    background-color: var(--hover-bg-color);\n",
              "    box-shadow: 0 1px 2px rgba(60, 64, 67, 0.3), 0 1px 3px 1px rgba(60, 64, 67, 0.15);\n",
              "    fill: var(--button-hover-fill-color);\n",
              "  }\n",
              "\n",
              "  .colab-df-quickchart-complete:disabled,\n",
              "  .colab-df-quickchart-complete:disabled:hover {\n",
              "    background-color: var(--disabled-bg-color);\n",
              "    fill: var(--disabled-fill-color);\n",
              "    box-shadow: none;\n",
              "  }\n",
              "\n",
              "  .colab-df-spinner {\n",
              "    border: 2px solid var(--fill-color);\n",
              "    border-color: transparent;\n",
              "    border-bottom-color: var(--fill-color);\n",
              "    animation:\n",
              "      spin 1s steps(1) infinite;\n",
              "  }\n",
              "\n",
              "  @keyframes spin {\n",
              "    0% {\n",
              "      border-color: transparent;\n",
              "      border-bottom-color: var(--fill-color);\n",
              "      border-left-color: var(--fill-color);\n",
              "    }\n",
              "    20% {\n",
              "      border-color: transparent;\n",
              "      border-left-color: var(--fill-color);\n",
              "      border-top-color: var(--fill-color);\n",
              "    }\n",
              "    30% {\n",
              "      border-color: transparent;\n",
              "      border-left-color: var(--fill-color);\n",
              "      border-top-color: var(--fill-color);\n",
              "      border-right-color: var(--fill-color);\n",
              "    }\n",
              "    40% {\n",
              "      border-color: transparent;\n",
              "      border-right-color: var(--fill-color);\n",
              "      border-top-color: var(--fill-color);\n",
              "    }\n",
              "    60% {\n",
              "      border-color: transparent;\n",
              "      border-right-color: var(--fill-color);\n",
              "    }\n",
              "    80% {\n",
              "      border-color: transparent;\n",
              "      border-right-color: var(--fill-color);\n",
              "      border-bottom-color: var(--fill-color);\n",
              "    }\n",
              "    90% {\n",
              "      border-color: transparent;\n",
              "      border-bottom-color: var(--fill-color);\n",
              "    }\n",
              "  }\n",
              "</style>\n",
              "\n",
              "  <script>\n",
              "    async function quickchart(key) {\n",
              "      const quickchartButtonEl =\n",
              "        document.querySelector('#' + key + ' button');\n",
              "      quickchartButtonEl.disabled = true;  // To prevent multiple clicks.\n",
              "      quickchartButtonEl.classList.add('colab-df-spinner');\n",
              "      try {\n",
              "        const charts = await google.colab.kernel.invokeFunction(\n",
              "            'suggestCharts', [key], {});\n",
              "      } catch (error) {\n",
              "        console.error('Error during call to suggestCharts:', error);\n",
              "      }\n",
              "      quickchartButtonEl.classList.remove('colab-df-spinner');\n",
              "      quickchartButtonEl.classList.add('colab-df-quickchart-complete');\n",
              "    }\n",
              "    (() => {\n",
              "      let quickchartButtonEl =\n",
              "        document.querySelector('#df-2a918eed-8e5a-4522-9e75-1a1fefbfe2be button');\n",
              "      quickchartButtonEl.style.display =\n",
              "        google.colab.kernel.accessAllowed ? 'block' : 'none';\n",
              "    })();\n",
              "  </script>\n",
              "</div>\n",
              "\n",
              "    </div>\n",
              "  </div>\n"
            ],
            "application/vnd.google.colaboratory.intrinsic+json": {
              "type": "dataframe",
              "summary": "{\n  \"name\": \"data\",\n  \"rows\": 8,\n  \"fields\": [\n    {\n      \"column\": \"Avg. Session Length\",\n      \"properties\": {\n        \"dtype\": \"number\",\n        \"std\": 167.11804797983805,\n        \"min\": 0.992563111084536,\n        \"max\": 500.0,\n        \"num_unique_values\": 8,\n        \"samples\": [\n          33.05319351819619,\n          33.08200760262899,\n          500.0\n        ],\n        \"semantic_type\": \"\",\n        \"description\": \"\"\n      }\n    },\n    {\n      \"column\": \"Time on App\",\n      \"properties\": {\n        \"dtype\": \"number\",\n        \"std\": 173.15142819787857,\n        \"min\": 0.9942156084725424,\n        \"max\": 500.0,\n        \"num_unique_values\": 8,\n        \"samples\": [\n          12.052487937166132,\n          11.983231258825267,\n          500.0\n        ],\n        \"semantic_type\": \"\",\n        \"description\": \"\"\n      }\n    },\n    {\n      \"column\": \"Time on Website\",\n      \"properties\": {\n        \"dtype\": \"number\",\n        \"std\": 165.99452348796385,\n        \"min\": 1.0104889067564022,\n        \"max\": 500.0,\n        \"num_unique_values\": 8,\n        \"samples\": [\n          37.06044542094858,\n          37.069366582835826,\n          500.0\n        ],\n        \"semantic_type\": \"\",\n        \"description\": \"\"\n      }\n    },\n    {\n      \"column\": \"Length of Membership\",\n      \"properties\": {\n        \"dtype\": \"number\",\n        \"std\": 175.66111895382522,\n        \"min\": 0.2699010899842742,\n        \"max\": 500.0,\n        \"num_unique_values\": 8,\n        \"samples\": [\n          3.5334615559150566,\n          3.5339750035877096,\n          500.0\n        ],\n        \"semantic_type\": \"\",\n        \"description\": \"\"\n      }\n    },\n    {\n      \"column\": \"Yearly Amount Spent\",\n      \"properties\": {\n        \"dtype\": \"number\",\n        \"std\": 204.08017853027562,\n        \"min\": 79.31478154970677,\n        \"max\": 765.5184619388372,\n        \"num_unique_values\": 8,\n        \"samples\": [\n          499.31403825859053,\n          498.887875469115,\n          500.0\n        ],\n        \"semantic_type\": \"\",\n        \"description\": \"\"\n      }\n    }\n  ]\n}"
            }
          },
          "metadata": {},
          "execution_count": 3
        }
      ]
    },
    {
      "cell_type": "markdown",
      "source": [
        "## STEP 4 - Visualize The Data"
      ],
      "metadata": {
        "id": "tiKM3l9Jw9fQ"
      }
    },
    {
      "cell_type": "code",
      "source": [
        "# import library\n",
        "import matplotlib.pyplot as plt\n",
        "import seaborn as sns\n",
        "\n",
        "# visualize the data using pairplot\n",
        "sns.pairplot(data, x_vars=['Time on App', 'Time on Website', 'Length of Membership'],\n",
        "             y_vars='Yearly Amount Spent', size=4, aspect=1, kind='scatter')\n",
        "plt.show()\n",
        "\n",
        "# visualize the data correlation using heatmaps\n",
        "sns.heatmap(data.corr(), cmap=\"YlGnBu\", annot=True)\n",
        "plt.show()"
      ],
      "metadata": {
        "id": "30ld3Mikw_4d"
      },
      "execution_count": null,
      "outputs": []
    },
    {
      "cell_type": "markdown",
      "source": [
        "## STEP 5 - Build Regression Model"
      ],
      "metadata": {
        "id": "HFEzuQ8pxC0_"
      }
    },
    {
      "cell_type": "markdown",
      "source": [
        "### *Inspect the independend and dependend variables*"
      ],
      "metadata": {
        "id": "rdBisfHaxMKN"
      }
    },
    {
      "cell_type": "code",
      "source": [
        "# X is independen variabel, Y is dependen variable\n",
        "X = data['Length of Membership']\n",
        "y = data['Yearly Amount Spent']"
      ],
      "metadata": {
        "id": "hOj9YRN3xH4e"
      },
      "execution_count": 5,
      "outputs": []
    },
    {
      "cell_type": "markdown",
      "source": [
        "### *Split training and testing data using 70:30 ratio*"
      ],
      "metadata": {
        "id": "3-5WPdcaxRvr"
      }
    },
    {
      "cell_type": "code",
      "source": [
        "from sklearn.model_selection import train_test_split\n",
        "X_train, X_test, y_train, y_test = train_test_split(X, y, train_size=0.7, test_size=0.3, random_state=100)"
      ],
      "metadata": {
        "id": "yVfYdKobxXF_"
      },
      "execution_count": 6,
      "outputs": []
    },
    {
      "cell_type": "markdown",
      "source": [
        "### *Build Regression Model*"
      ],
      "metadata": {
        "id": "mGrpJ1OWxb0c"
      }
    },
    {
      "cell_type": "code",
      "source": [
        "# Training model\n",
        "import statsmodels.api as sm\n",
        "\n",
        "X_train_sm = sm.add_constant(X_train)\n",
        "lr = sm.OLS(y_train, X_train_sm).fit()"
      ],
      "metadata": {
        "id": "KCVWDl-1xgSD"
      },
      "execution_count": 7,
      "outputs": []
    },
    {
      "cell_type": "markdown",
      "source": [
        "### *Visualize Model*"
      ],
      "metadata": {
        "id": "u4KqmokPxjJz"
      }
    },
    {
      "cell_type": "code",
      "source": [
        "plt.scatter(X_train, y_train)\n",
        "plt.plot(X_train, 265.2483 + 66.3015*X_train, 'r')\n",
        "plt.show()"
      ],
      "metadata": {
        "id": "roD437K9xnlW",
        "outputId": "e7cff8e7-4941-44ea-e33b-fc3eb3868e0a",
        "colab": {
          "base_uri": "https://localhost:8080/",
          "height": 430
        }
      },
      "execution_count": 8,
      "outputs": [
        {
          "output_type": "display_data",
          "data": {
            "text/plain": [
              "<Figure size 640x480 with 1 Axes>"
            ],
            "image/png": "[encoded data removed]"
          },
          "metadata": {}
        }
      ]
    },
    {
      "cell_type": "markdown",
      "source": [
        "## STEP 6 - Residual Analysis"
      ],
      "metadata": {
        "id": "rCYwrrzrxxdS"
      }
    },
    {
      "cell_type": "code",
      "source": [
        "# Make prediction\n",
        "y_train_pred = lr.predict(X_train_sm)\n",
        "\n",
        "# Calculate residual\n",
        "res = (y_train - y_train_pred)\n",
        "\n",
        "# Histogram residual\n",
        "fig = plt.figure()\n",
        "sns.distplot(res, bins=15)\n",
        "plt.title('Error Terms', fontsize=15)\n",
        "plt.xlabel('y_train - y_train_pred', fontsize=15)\n",
        "plt.show()\n",
        "\n",
        "# Scatter plot residual\n",
        "plt.scatter(X_train, res)\n",
        "plt.show()"
      ],
      "metadata": {
        "id": "QbSlUMXTx1i8",
        "outputId": "f37c1c6d-0f89-4535-e360-164f388adddd",
        "colab": {
          "base_uri": "https://localhost:8080/",
          "height": 1000
        }
      },
      "execution_count": 9,
      "outputs": [
        {
          "output_type": "stream",
          "name": "stderr",
          "text": [
            "<ipython-input-9-0c93ba5dbe5a>:9: UserWarning: \n",
            "\n",
            "`distplot` is a deprecated function and will be removed in seaborn v0.14.0.\n",
            "\n",
            "Please adapt your code to use either `displot` (a figure-level function with\n",
            "similar flexibility) or `histplot` (an axes-level function for histograms).\n",
            "\n",
            "For a guide to updating your code to use the new functions, please see\n",
            "https://gist.github.com/mwaskom/de44147ed2974457ad6372750bbe5751\n",
            "\n",
            "  sns.distplot(res, bins=15)\n"
          ]
        },
        {
          "output_type": "display_data",
          "data": {
            "text/plain": [
              "<Figure size 640x480 with 1 Axes>"
            ],
            "image/png": "[encoded data removed]"
          },
          "metadata": {}
        },
        {
          "output_type": "display_data",
          "data": {
            "text/plain": [
              "<Figure size 640x480 with 1 Axes>"
            ],
            "image/png": "[encoded data removed]"
          },
          "metadata": {}
        }
      ]
    },
    {
      "cell_type": "markdown",
      "source": [
        "## STEP 7 - Make a Prediction Using Testing Data"
      ],
      "metadata": {
        "id": "F7KHhzimx5Dn"
      }
    },
    {
      "cell_type": "code",
      "source": [
        "# Make a prediction using testing data\n",
        "X_test_sm = sm.add_constant(X_test)\n",
        "y_test_pred = lr.predict(X_test_sm)\n",
        "\n",
        "#Evaluate using R2\n",
        "from sklearn.metrics import r2_score\n",
        "\n",
        "r_squared = r2_score(y_test, y_test_pred)"
      ],
      "metadata": {
        "id": "ENGLaF1lx-HD"
      },
      "execution_count": 10,
      "outputs": []
    },
    {
      "cell_type": "markdown",
      "source": [
        "## Step 8 - Visualize The Result"
      ],
      "metadata": {
        "id": "_mONqdWpyWi4"
      }
    },
    {
      "cell_type": "code",
      "source": [
        "plt.scatter(X_test, y_test)\n",
        "plt.plot(X_test, y_test_pred, 'r')\n",
        "plt.show()"
      ],
      "metadata": {
        "id": "wsV6qMyEyHB_",
        "outputId": "eb833b01-3b4d-4a95-d28f-7b8fdefc343e",
        "colab": {
          "base_uri": "https://localhost:8080/",
          "height": 430
        }
      },
      "execution_count": 11,
      "outputs": [
        {
          "output_type": "display_data",
          "data": {
            "text/plain": [
              "<Figure size 640x480 with 1 Axes>"
            ],
            "image/png": "[encoded data removed]"
          },
          "metadata": {}
        }
      ]
    },
    {
      "cell_type": "markdown",
      "source": [
        "# **Lab Work 2**"
      ],
      "metadata": {
        "id": "XXswbCPY0To8"
      }
    },
    {
      "cell_type": "markdown",
      "source": [
        "## Step 1 - Import Library"
      ],
      "metadata": {
        "id": "8oP3xomZ0j2z"
      }
    },
    {
      "cell_type": "code",
      "source": [
        "import numpy as np\n",
        "import matplotlib.pyplot as plt\n",
        "import pandas as pd"
      ],
      "metadata": {
        "id": "oEbZn9Ae0lh5"
      },
      "execution_count": 14,
      "outputs": []
    },
    {
      "cell_type": "markdown",
      "source": [
        "## Step 2 - Load Data"
      ],
      "metadata": {
        "id": "hp0aLS5l0nmu"
      }
    },
    {
      "cell_type": "code",
      "source": [
        "dataset = pd.read_csv('Posisi_gaji.csv')\n",
        "X = dataset.iloc[:, 1:2].values\n",
        "y = dataset.iloc[:, 2].values  # Ubah menjadi satu kolom saja"
      ],
      "metadata": {
        "id": "c4-sSmAf0rdC"
      },
      "execution_count": 15,
      "outputs": []
    },
    {
      "cell_type": "markdown",
      "source": [
        "## Step 3 - Preprocessing --> Feature Scaling"
      ],
      "metadata": {
        "id": "tks0GHa50tby"
      }
    },
    {
      "cell_type": "code",
      "source": [
        "# Feature Scaling\n",
        "from sklearn.preprocessing import StandardScaler\n",
        "sc_X = StandardScaler()\n",
        "sc_y = StandardScaler()\n",
        "X = sc_X.fit_transform(X.reshape(-1, 1))\n",
        "y = sc_y.fit_transform(y.reshape(-1, 1))"
      ],
      "metadata": {
        "id": "COyo5us30yzg"
      },
      "execution_count": 16,
      "outputs": []
    },
    {
      "cell_type": "markdown",
      "source": [
        "## Step 4 - Fit SVR Model"
      ],
      "metadata": {
        "id": "Bt3GdLti02HE"
      }
    },
    {
      "cell_type": "code",
      "source": [
        "from sklearn.svm import SVR\n",
        "regressor = SVR(kernel='rbf')\n",
        "regressor.fit(X, y)"
      ],
      "metadata": {
        "id": "nsuUVixX0_sW",
        "outputId": "61b3e276-ef70-4d4a-d4e7-7f78bae00f8f",
        "colab": {
          "base_uri": "https://localhost:8080/",
          "height": 129
        }
      },
      "execution_count": 17,
      "outputs": [
        {
          "output_type": "stream",
          "name": "stderr",
          "text": [
            "/usr/local/lib/python3.10/dist-packages/sklearn/utils/validation.py:1183: DataConversionWarning: A column-vector y was passed when a 1d array was expected. Please change the shape of y to (n_samples, ), for example using ravel().\n",
            "  y = column_or_1d(y, warn=True)\n"
          ]
        },
        {
          "output_type": "execute_result",
          "data": {
            "text/plain": [
              "SVR()"
            ],
            "text/html": [
              "<style>#sk-container-id-1 {color: black;}#sk-container-id-1 pre{padding: 0;}#sk-container-id-1 div.sk-toggleable {background-color: white;}#sk-container-id-1 label.sk-toggleable__label {cursor: pointer;display: block;width: 100%;margin-bottom: 0;padding: 0.3em;box-sizing: border-box;text-align: center;}#sk-container-id-1 label.sk-toggleable__label-arrow:before {content: \"▸\";float: left;margin-right: 0.25em;color: #696969;}#sk-container-id-1 label.sk-toggleable__label-arrow:hover:before {color: black;}#sk-container-id-1 div.sk-estimator:hover label.sk-toggleable__label-arrow:before {color: black;}#sk-container-id-1 div.sk-toggleable__content {max-height: 0;max-width: 0;overflow: hidden;text-align: left;background-color: #f0f8ff;}#sk-container-id-1 div.sk-toggleable__content pre {margin: 0.2em;color: black;border-radius: 0.25em;background-color: #f0f8ff;}#sk-container-id-1 input.sk-toggleable__control:checked~div.sk-toggleable__content {max-height: 200px;max-width: 100%;overflow: auto;}#sk-container-id-1 input.sk-toggleable__control:checked~label.sk-toggleable__label-arrow:before {content: \"▾\";}#sk-container-id-1 div.sk-estimator input.sk-toggleable__control:checked~label.sk-toggleable__label {background-color: #d4ebff;}#sk-container-id-1 div.sk-label input.sk-toggleable__control:checked~label.sk-toggleable__label {background-color: #d4ebff;}#sk-container-id-1 input.sk-hidden--visually {border: 0;clip: rect(1px 1px 1px 1px);clip: rect(1px, 1px, 1px, 1px);height: 1px;margin: -1px;overflow: hidden;padding: 0;position: absolute;width: 1px;}#sk-container-id-1 div.sk-estimator {font-family: monospace;background-color: #f0f8ff;border: 1px dotted black;border-radius: 0.25em;box-sizing: border-box;margin-bottom: 0.5em;}#sk-container-id-1 div.sk-estimator:hover {background-color: #d4ebff;}#sk-container-id-1 div.sk-parallel-item::after {content: \"\";width: 100%;border-bottom: 1px solid gray;flex-grow: 1;}#sk-container-id-1 div.sk-label:hover label.sk-toggleable__label {background-color: #d4ebff;}#sk-container-id-1 div.sk-serial::before {content: \"\";position: absolute;border-left: 1px solid gray;box-sizing: border-box;top: 0;bottom: 0;left: 50%;z-index: 0;}#sk-container-id-1 div.sk-serial {display: flex;flex-direction: column;align-items: center;background-color: white;padding-right: 0.2em;padding-left: 0.2em;position: relative;}#sk-container-id-1 div.sk-item {position: relative;z-index: 1;}#sk-container-id-1 div.sk-parallel {display: flex;align-items: stretch;justify-content: center;background-color: white;position: relative;}#sk-container-id-1 div.sk-item::before, #sk-container-id-1 div.sk-parallel-item::before {content: \"\";position: absolute;border-left: 1px solid gray;box-sizing: border-box;top: 0;bottom: 0;left: 50%;z-index: -1;}#sk-container-id-1 div.sk-parallel-item {display: flex;flex-direction: column;z-index: 1;position: relative;background-color: white;}#sk-container-id-1 div.sk-parallel-item:first-child::after {align-self: flex-end;width: 50%;}#sk-container-id-1 div.sk-parallel-item:last-child::after {align-self: flex-start;width: 50%;}#sk-container-id-1 div.sk-parallel-item:only-child::after {width: 0;}#sk-container-id-1 div.sk-dashed-wrapped {border: 1px dashed gray;margin: 0 0.4em 0.5em 0.4em;box-sizing: border-box;padding-bottom: 0.4em;background-color: white;}#sk-container-id-1 div.sk-label label {font-family: monospace;font-weight: bold;display: inline-block;line-height: 1.2em;}#sk-container-id-1 div.sk-label-container {text-align: center;}#sk-container-id-1 div.sk-container {/* jupyter's `normalize.less` sets `[hidden] { display: none; }` but bootstrap.min.css set `[hidden] { display: none !important; }` so we also need the `!important` here to be able to override the default hidden behavior on the sphinx rendered scikit-learn.org. See: https://github.com/scikit-learn/scikit-learn/issues/21755 */display: inline-block !important;position: relative;}#sk-container-id-1 div.sk-text-repr-fallback {display: none;}</style><div id=\"sk-container-id-1\" class=\"sk-top-container\"><div class=\"sk-text-repr-fallback\"><pre>SVR()</pre><b>In a Jupyter environment, please rerun this cell to show the HTML representation or trust the notebook. <br />On GitHub, the HTML representation is unable to render, please try loading this page with nbviewer.org.</b></div><div class=\"sk-container\" hidden><div class=\"sk-item\"><div class=\"sk-estimator sk-toggleable\"><input class=\"sk-toggleable__control sk-hidden--visually\" id=\"sk-estimator-id-1\" type=\"checkbox\" checked><label for=\"sk-estimator-id-1\" class=\"sk-toggleable__label sk-toggleable__label-arrow\">SVR</label><div class=\"sk-toggleable__content\"><pre>SVR()</pre></div></div></div></div></div>"
            ]
          },
          "metadata": {},
          "execution_count": 17
        }
      ]
    },
    {
      "cell_type": "markdown",
      "source": [
        "## Step 5 - Visualize"
      ],
      "metadata": {
        "id": "j5SuuWGm1CYM"
      }
    },
    {
      "cell_type": "code",
      "source": [
        "X_grid = np.arange(min(X), max(X), 0.01).reshape(-1, 1)\n",
        "plt.scatter(X, y, color='red')\n",
        "plt.plot(X_grid, regressor.predict(X_grid), color='blue')\n",
        "plt.title('Jujur atau tidak (SVR)')\n",
        "plt.xlabel('Tingkat posisi')\n",
        "plt.ylabel('Gaji')\n",
        "plt.show()"
      ],
      "metadata": {
        "id": "uunaJN8Q1Db5",
        "outputId": "c60ad4b9-7961-4332-d5ac-eb9fa5f3e79e",
        "colab": {
          "base_uri": "https://localhost:8080/",
          "height": 527
        }
      },
      "execution_count": 18,
      "outputs": [
        {
          "output_type": "stream",
          "name": "stderr",
          "text": [
            "<ipython-input-18-e63ebe097fbe>:1: DeprecationWarning: Conversion of an array with ndim > 0 to a scalar is deprecated, and will error in future. Ensure you extract a single element from your array before performing this operation. (Deprecated NumPy 1.25.)\n",
            "  X_grid = np.arange(min(X), max(X), 0.01).reshape(-1, 1)\n"
          ]
        },
        {
          "output_type": "display_data",
          "data": {
            "text/plain": [
              "<Figure size 640x480 with 1 Axes>"
            ],
            "image/png": "[encoded data removed]"
          },
          "metadata": {}
        }
      ]
    },
    {
      "cell_type": "markdown",
      "source": [
        "## Step 6 - Make a Prediction"
      ],
      "metadata": {
        "id": "4bIzEVB-1F4e"
      }
    },
    {
      "cell_type": "code",
      "source": [
        "# Create 2D Array\n",
        "tingkat_posisi_prediksi = np.array([[6.5]])\n",
        "# Scaled predicted data\n",
        "tingkat_posisi_prediksi = sc_X.transform(tingkat_posisi_prediksi)\n",
        "# Make a prediction\n",
        "gaji_prediksi = regressor.predict(tingkat_posisi_prediksi)\n",
        "# Rescale the result --> back to the original data\n",
        "gaji_prediksi = sc_y.inverse_transform(gaji_prediksi.reshape(-1, 1))"
      ],
      "metadata": {
        "id": "FUrLO1yT1KXn"
      },
      "execution_count": 19,
      "outputs": []
    },
    {
      "cell_type": "markdown",
      "source": [
        "## Step 7 - Print Result"
      ],
      "metadata": {
        "id": "M9pPDcN-1Mbv"
      }
    },
    {
      "cell_type": "code",
      "source": [
        "# Show result\n",
        "print(\"Prediksi Gaji untuk Tingkat Posisi 6.5:\", gaji_prediksi[0])"
      ],
      "metadata": {
        "id": "mMYW--7L1Q8R",
        "outputId": "1fd28fe9-5838-4ffe-9b5f-0b0b630749c1",
        "colab": {
          "base_uri": "https://localhost:8080/"
        }
      },
      "execution_count": 20,
      "outputs": [
        {
          "output_type": "stream",
          "name": "stdout",
          "text": [
            "Prediksi Gaji untuk Tingkat Posisi 6.5: [170370.0204065]\n"
          ]
        }
      ]
    },
    {
      "cell_type": "markdown",
      "source": [
        "## Step 8 - Model Evaluation"
      ],
      "metadata": {
        "id": "-uGoc0Qz1Rms"
      }
    },
    {
      "cell_type": "code",
      "source": [
        "from sklearn.metrics import mean_absolute_error, mean_squared_error, r2_score\n",
        "\n",
        "y_actual = y\n",
        "y_pred = regressor.predict(X)\n",
        "\n",
        "# MAE\n",
        "mae = mean_absolute_error(y_actual, y_pred)\n",
        "\n",
        "# MSE\n",
        "mse = mean_squared_error(y_actual, y_pred)\n",
        "\n",
        "# RMSE\n",
        "rmse = np.sqrt(mse)\n",
        "\n",
        "# R-squared\n",
        "r2 = r2_score(y_actual, y_pred)\n",
        "\n",
        "print(\"MAE:\", mae)\n",
        "print(\"MSE:\", mse)\n",
        "print(\"RMSE:\", rmse)\n",
        "print(\"R-squared:\", r2)"
      ],
      "metadata": {
        "id": "l0n83kYc1UIu",
        "outputId": "ab7c6692-a1cb-44d9-c268-5dba5449b86c",
        "colab": {
          "base_uri": "https://localhost:8080/"
        }
      },
      "execution_count": 21,
      "outputs": [
        {
          "output_type": "stream",
          "name": "stdout",
          "text": [
            "MAE: 0.22299274095734414\n",
            "MSE: 0.24839989293792014\n",
            "RMSE: 0.4983973243687411\n",
            "R-squared: 0.7516001070620798\n"
          ]
        }
      ]
    },
    {
      "cell_type": "markdown",
      "source": [
        "# **Lab Assignment**"
      ],
      "metadata": {
        "id": "aWFQ7ETE17jL"
      }
    },
    {
      "cell_type": "markdown",
      "source": [
        "## Identify the variables that will be used as independent variables (features) and the target variable (personal medical costs)."
      ],
      "metadata": {
        "id": "OwhlxKlw2NLT"
      }
    },
    {
      "cell_type": "code",
      "source": [],
      "metadata": {
        "id": "gr5iewA22XDa"
      },
      "execution_count": null,
      "outputs": []
    },
    {
      "cell_type": "markdown",
      "source": [
        "## Split the dataset into training (train) and testing (test) data with an appropriate proportion."
      ],
      "metadata": {
        "id": "mJu81c362P7Y"
      }
    },
    {
      "cell_type": "code",
      "source": [],
      "metadata": {
        "id": "qCLrdMyB2Y7q"
      },
      "execution_count": null,
      "outputs": []
    },
    {
      "cell_type": "markdown",
      "source": [
        "## Perform feature scaling if necessary."
      ],
      "metadata": {
        "id": "RFpIuHMF2TQA"
      }
    },
    {
      "cell_type": "code",
      "source": [],
      "metadata": {
        "id": "MnC_1Cul2cz0"
      },
      "execution_count": null,
      "outputs": []
    },
    {
      "cell_type": "markdown",
      "source": [
        "## Create a multiple linear regression model using Scikit-Learn."
      ],
      "metadata": {
        "id": "1HH6nojs2dfr"
      }
    },
    {
      "cell_type": "code",
      "source": [],
      "metadata": {
        "id": "YzuxjckM2gbc"
      },
      "execution_count": null,
      "outputs": []
    },
    {
      "cell_type": "markdown",
      "source": [
        "## Train the model on the training data and make predictions on the testing data."
      ],
      "metadata": {
        "id": "3SymjJTi2g3M"
      }
    },
    {
      "cell_type": "code",
      "source": [],
      "metadata": {
        "id": "pST-YPrp2jds"
      },
      "execution_count": null,
      "outputs": []
    },
    {
      "cell_type": "markdown",
      "source": [
        "## Evaluate the model by calculating metrics such as R-squared, MSE, and MAE. Display the evaluation results."
      ],
      "metadata": {
        "id": "a5QbBVD82jwA"
      }
    },
    {
      "cell_type": "code",
      "source": [],
      "metadata": {
        "id": "n1qdfk232mKC"
      },
      "execution_count": null,
      "outputs": []
    }
  ],
  "metadata": {
    "colab": {
      "name": "Welcome To Colab",
      "provenance": [],
      "include_colab_link": true
    },
    "kernelspec": {
      "display_name": "Python 3",
      "name": "python3"
    }
  },
  "nbformat": 4,
  "nbformat_minor": 0
}